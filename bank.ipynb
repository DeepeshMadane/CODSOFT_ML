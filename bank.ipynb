{
  "cells": [
    {
      "cell_type": "markdown",
      "metadata": {
        "id": "view-in-github",
        "colab_type": "text"
      },
      "source": [
        "<a href=\"https://colab.research.google.com/github/DeepeshMadane/CODSOFT_ML/blob/main/bank.ipynb\" target=\"_parent\"><img src=\"https://colab.research.google.com/assets/colab-badge.svg\" alt=\"Open In Colab\"/></a>"
      ]
    },
    {
      "cell_type": "code",
      "execution_count": 1,
      "id": "ebd2589f",
      "metadata": {
        "execution": {
          "iopub.execute_input": "2024-06-03T23:41:54.523284Z",
          "iopub.status.busy": "2024-06-03T23:41:54.522874Z",
          "iopub.status.idle": "2024-06-03T23:41:55.413916Z",
          "shell.execute_reply": "2024-06-03T23:41:55.412803Z"
        },
        "papermill": {
          "duration": 0.902544,
          "end_time": "2024-06-03T23:41:55.416471",
          "exception": false,
          "start_time": "2024-06-03T23:41:54.513927",
          "status": "completed"
        },
        "tags": [],
        "id": "ebd2589f"
      },
      "outputs": [],
      "source": [
        "import pandas as pd\n",
        "import matplotlib.pyplot as plt\n",
        "import numpy as np"
      ]
    },
    {
      "cell_type": "markdown",
      "id": "84259f80",
      "metadata": {
        "papermill": {
          "duration": 0.006592,
          "end_time": "2024-06-03T23:41:55.430171",
          "exception": false,
          "start_time": "2024-06-03T23:41:55.423579",
          "status": "completed"
        },
        "tags": [],
        "id": "84259f80"
      },
      "source": [
        "<h3>about dataset</h3>\n",
        "<h5>Context</h5>\n",
        "<p>It is the dataset of a U.S. bank customer for getting the information that , this particular customer will leave bank or not.</p>\n",
        "\n",
        "<h5>Content</h5>\n",
        "<p>Various Bank detail is given like CustomerID , surname, Credit score and many more.</p>\n",
        "\n",
        "<h5>Acknowledgements</h5>\n",
        "<p>This dataset is originated from a U.S. bank .</p>\n",
        "<h5>Inspiration</h5>\n",
        "<p>Lets work together on this dataset and learn basic level of prediction using different libraries.</p>"
      ]
    },
    {
      "cell_type": "code",
      "execution_count": 2,
      "id": "b77423f7",
      "metadata": {
        "execution": {
          "iopub.execute_input": "2024-06-03T23:41:55.446755Z",
          "iopub.status.busy": "2024-06-03T23:41:55.446224Z",
          "iopub.status.idle": "2024-06-03T23:41:55.526017Z",
          "shell.execute_reply": "2024-06-03T23:41:55.524775Z"
        },
        "papermill": {
          "duration": 0.090711,
          "end_time": "2024-06-03T23:41:55.528659",
          "exception": false,
          "start_time": "2024-06-03T23:41:55.437948",
          "status": "completed"
        },
        "tags": [],
        "colab": {
          "base_uri": "https://localhost:8080/",
          "height": 206
        },
        "id": "b77423f7",
        "outputId": "83fd5be7-80bd-4379-cea5-ebb824558c8c"
      },
      "outputs": [
        {
          "output_type": "execute_result",
          "data": {
            "text/plain": [
              "   RowNumber  CustomerId   Surname  CreditScore Geography  Gender  Age  \\\n",
              "0          1    15634602  Hargrave          619    France  Female   42   \n",
              "1          2    15647311      Hill          608     Spain  Female   41   \n",
              "2          3    15619304      Onio          502    France  Female   42   \n",
              "3          4    15701354      Boni          699    France  Female   39   \n",
              "4          5    15737888  Mitchell          850     Spain  Female   43   \n",
              "\n",
              "   Tenure    Balance  NumOfProducts  HasCrCard  IsActiveMember  \\\n",
              "0       2       0.00              1          1               1   \n",
              "1       1   83807.86              1          0               1   \n",
              "2       8  159660.80              3          1               0   \n",
              "3       1       0.00              2          0               0   \n",
              "4       2  125510.82              1          1               1   \n",
              "\n",
              "   EstimatedSalary  Exited  \n",
              "0        101348.88       1  \n",
              "1        112542.58       0  \n",
              "2        113931.57       1  \n",
              "3         93826.63       0  \n",
              "4         79084.10       0  "
            ],
            "text/html": [
              "\n",
              "  <div id=\"df-78ea22ff-4315-4063-b447-bbc18db990cf\" class=\"colab-df-container\">\n",
              "    <div>\n",
              "<style scoped>\n",
              "    .dataframe tbody tr th:only-of-type {\n",
              "        vertical-align: middle;\n",
              "    }\n",
              "\n",
              "    .dataframe tbody tr th {\n",
              "        vertical-align: top;\n",
              "    }\n",
              "\n",
              "    .dataframe thead th {\n",
              "        text-align: right;\n",
              "    }\n",
              "</style>\n",
              "<table border=\"1\" class=\"dataframe\">\n",
              "  <thead>\n",
              "    <tr style=\"text-align: right;\">\n",
              "      <th></th>\n",
              "      <th>RowNumber</th>\n",
              "      <th>CustomerId</th>\n",
              "      <th>Surname</th>\n",
              "      <th>CreditScore</th>\n",
              "      <th>Geography</th>\n",
              "      <th>Gender</th>\n",
              "      <th>Age</th>\n",
              "      <th>Tenure</th>\n",
              "      <th>Balance</th>\n",
              "      <th>NumOfProducts</th>\n",
              "      <th>HasCrCard</th>\n",
              "      <th>IsActiveMember</th>\n",
              "      <th>EstimatedSalary</th>\n",
              "      <th>Exited</th>\n",
              "    </tr>\n",
              "  </thead>\n",
              "  <tbody>\n",
              "    <tr>\n",
              "      <th>0</th>\n",
              "      <td>1</td>\n",
              "      <td>15634602</td>\n",
              "      <td>Hargrave</td>\n",
              "      <td>619</td>\n",
              "      <td>France</td>\n",
              "      <td>Female</td>\n",
              "      <td>42</td>\n",
              "      <td>2</td>\n",
              "      <td>0.00</td>\n",
              "      <td>1</td>\n",
              "      <td>1</td>\n",
              "      <td>1</td>\n",
              "      <td>101348.88</td>\n",
              "      <td>1</td>\n",
              "    </tr>\n",
              "    <tr>\n",
              "      <th>1</th>\n",
              "      <td>2</td>\n",
              "      <td>15647311</td>\n",
              "      <td>Hill</td>\n",
              "      <td>608</td>\n",
              "      <td>Spain</td>\n",
              "      <td>Female</td>\n",
              "      <td>41</td>\n",
              "      <td>1</td>\n",
              "      <td>83807.86</td>\n",
              "      <td>1</td>\n",
              "      <td>0</td>\n",
              "      <td>1</td>\n",
              "      <td>112542.58</td>\n",
              "      <td>0</td>\n",
              "    </tr>\n",
              "    <tr>\n",
              "      <th>2</th>\n",
              "      <td>3</td>\n",
              "      <td>15619304</td>\n",
              "      <td>Onio</td>\n",
              "      <td>502</td>\n",
              "      <td>France</td>\n",
              "      <td>Female</td>\n",
              "      <td>42</td>\n",
              "      <td>8</td>\n",
              "      <td>159660.80</td>\n",
              "      <td>3</td>\n",
              "      <td>1</td>\n",
              "      <td>0</td>\n",
              "      <td>113931.57</td>\n",
              "      <td>1</td>\n",
              "    </tr>\n",
              "    <tr>\n",
              "      <th>3</th>\n",
              "      <td>4</td>\n",
              "      <td>15701354</td>\n",
              "      <td>Boni</td>\n",
              "      <td>699</td>\n",
              "      <td>France</td>\n",
              "      <td>Female</td>\n",
              "      <td>39</td>\n",
              "      <td>1</td>\n",
              "      <td>0.00</td>\n",
              "      <td>2</td>\n",
              "      <td>0</td>\n",
              "      <td>0</td>\n",
              "      <td>93826.63</td>\n",
              "      <td>0</td>\n",
              "    </tr>\n",
              "    <tr>\n",
              "      <th>4</th>\n",
              "      <td>5</td>\n",
              "      <td>15737888</td>\n",
              "      <td>Mitchell</td>\n",
              "      <td>850</td>\n",
              "      <td>Spain</td>\n",
              "      <td>Female</td>\n",
              "      <td>43</td>\n",
              "      <td>2</td>\n",
              "      <td>125510.82</td>\n",
              "      <td>1</td>\n",
              "      <td>1</td>\n",
              "      <td>1</td>\n",
              "      <td>79084.10</td>\n",
              "      <td>0</td>\n",
              "    </tr>\n",
              "  </tbody>\n",
              "</table>\n",
              "</div>\n",
              "    <div class=\"colab-df-buttons\">\n",
              "\n",
              "  <div class=\"colab-df-container\">\n",
              "    <button class=\"colab-df-convert\" onclick=\"convertToInteractive('df-78ea22ff-4315-4063-b447-bbc18db990cf')\"\n",
              "            title=\"Convert this dataframe to an interactive table.\"\n",
              "            style=\"display:none;\">\n",
              "\n",
              "  <svg xmlns=\"http://www.w3.org/2000/svg\" height=\"24px\" viewBox=\"0 -960 960 960\">\n",
              "    <path d=\"M120-120v-720h720v720H120Zm60-500h600v-160H180v160Zm220 220h160v-160H400v160Zm0 220h160v-160H400v160ZM180-400h160v-160H180v160Zm440 0h160v-160H620v160ZM180-180h160v-160H180v160Zm440 0h160v-160H620v160Z\"/>\n",
              "  </svg>\n",
              "    </button>\n",
              "\n",
              "  <style>\n",
              "    .colab-df-container {\n",
              "      display:flex;\n",
              "      gap: 12px;\n",
              "    }\n",
              "\n",
              "    .colab-df-convert {\n",
              "      background-color: #E8F0FE;\n",
              "      border: none;\n",
              "      border-radius: 50%;\n",
              "      cursor: pointer;\n",
              "      display: none;\n",
              "      fill: #1967D2;\n",
              "      height: 32px;\n",
              "      padding: 0 0 0 0;\n",
              "      width: 32px;\n",
              "    }\n",
              "\n",
              "    .colab-df-convert:hover {\n",
              "      background-color: #E2EBFA;\n",
              "      box-shadow: 0px 1px 2px rgba(60, 64, 67, 0.3), 0px 1px 3px 1px rgba(60, 64, 67, 0.15);\n",
              "      fill: #174EA6;\n",
              "    }\n",
              "\n",
              "    .colab-df-buttons div {\n",
              "      margin-bottom: 4px;\n",
              "    }\n",
              "\n",
              "    [theme=dark] .colab-df-convert {\n",
              "      background-color: #3B4455;\n",
              "      fill: #D2E3FC;\n",
              "    }\n",
              "\n",
              "    [theme=dark] .colab-df-convert:hover {\n",
              "      background-color: #434B5C;\n",
              "      box-shadow: 0px 1px 3px 1px rgba(0, 0, 0, 0.15);\n",
              "      filter: drop-shadow(0px 1px 2px rgba(0, 0, 0, 0.3));\n",
              "      fill: #FFFFFF;\n",
              "    }\n",
              "  </style>\n",
              "\n",
              "    <script>\n",
              "      const buttonEl =\n",
              "        document.querySelector('#df-78ea22ff-4315-4063-b447-bbc18db990cf button.colab-df-convert');\n",
              "      buttonEl.style.display =\n",
              "        google.colab.kernel.accessAllowed ? 'block' : 'none';\n",
              "\n",
              "      async function convertToInteractive(key) {\n",
              "        const element = document.querySelector('#df-78ea22ff-4315-4063-b447-bbc18db990cf');\n",
              "        const dataTable =\n",
              "          await google.colab.kernel.invokeFunction('convertToInteractive',\n",
              "                                                    [key], {});\n",
              "        if (!dataTable) return;\n",
              "\n",
              "        const docLinkHtml = 'Like what you see? Visit the ' +\n",
              "          '<a target=\"_blank\" href=https://colab.research.google.com/notebooks/data_table.ipynb>data table notebook</a>'\n",
              "          + ' to learn more about interactive tables.';\n",
              "        element.innerHTML = '';\n",
              "        dataTable['output_type'] = 'display_data';\n",
              "        await google.colab.output.renderOutput(dataTable, element);\n",
              "        const docLink = document.createElement('div');\n",
              "        docLink.innerHTML = docLinkHtml;\n",
              "        element.appendChild(docLink);\n",
              "      }\n",
              "    </script>\n",
              "  </div>\n",
              "\n",
              "\n",
              "<div id=\"df-d36f7faa-cb36-4358-ac31-4226c303874f\">\n",
              "  <button class=\"colab-df-quickchart\" onclick=\"quickchart('df-d36f7faa-cb36-4358-ac31-4226c303874f')\"\n",
              "            title=\"Suggest charts\"\n",
              "            style=\"display:none;\">\n",
              "\n",
              "<svg xmlns=\"http://www.w3.org/2000/svg\" height=\"24px\"viewBox=\"0 0 24 24\"\n",
              "     width=\"24px\">\n",
              "    <g>\n",
              "        <path d=\"M19 3H5c-1.1 0-2 .9-2 2v14c0 1.1.9 2 2 2h14c1.1 0 2-.9 2-2V5c0-1.1-.9-2-2-2zM9 17H7v-7h2v7zm4 0h-2V7h2v10zm4 0h-2v-4h2v4z\"/>\n",
              "    </g>\n",
              "</svg>\n",
              "  </button>\n",
              "\n",
              "<style>\n",
              "  .colab-df-quickchart {\n",
              "      --bg-color: #E8F0FE;\n",
              "      --fill-color: #1967D2;\n",
              "      --hover-bg-color: #E2EBFA;\n",
              "      --hover-fill-color: #174EA6;\n",
              "      --disabled-fill-color: #AAA;\n",
              "      --disabled-bg-color: #DDD;\n",
              "  }\n",
              "\n",
              "  [theme=dark] .colab-df-quickchart {\n",
              "      --bg-color: #3B4455;\n",
              "      --fill-color: #D2E3FC;\n",
              "      --hover-bg-color: #434B5C;\n",
              "      --hover-fill-color: #FFFFFF;\n",
              "      --disabled-bg-color: #3B4455;\n",
              "      --disabled-fill-color: #666;\n",
              "  }\n",
              "\n",
              "  .colab-df-quickchart {\n",
              "    background-color: var(--bg-color);\n",
              "    border: none;\n",
              "    border-radius: 50%;\n",
              "    cursor: pointer;\n",
              "    display: none;\n",
              "    fill: var(--fill-color);\n",
              "    height: 32px;\n",
              "    padding: 0;\n",
              "    width: 32px;\n",
              "  }\n",
              "\n",
              "  .colab-df-quickchart:hover {\n",
              "    background-color: var(--hover-bg-color);\n",
              "    box-shadow: 0 1px 2px rgba(60, 64, 67, 0.3), 0 1px 3px 1px rgba(60, 64, 67, 0.15);\n",
              "    fill: var(--button-hover-fill-color);\n",
              "  }\n",
              "\n",
              "  .colab-df-quickchart-complete:disabled,\n",
              "  .colab-df-quickchart-complete:disabled:hover {\n",
              "    background-color: var(--disabled-bg-color);\n",
              "    fill: var(--disabled-fill-color);\n",
              "    box-shadow: none;\n",
              "  }\n",
              "\n",
              "  .colab-df-spinner {\n",
              "    border: 2px solid var(--fill-color);\n",
              "    border-color: transparent;\n",
              "    border-bottom-color: var(--fill-color);\n",
              "    animation:\n",
              "      spin 1s steps(1) infinite;\n",
              "  }\n",
              "\n",
              "  @keyframes spin {\n",
              "    0% {\n",
              "      border-color: transparent;\n",
              "      border-bottom-color: var(--fill-color);\n",
              "      border-left-color: var(--fill-color);\n",
              "    }\n",
              "    20% {\n",
              "      border-color: transparent;\n",
              "      border-left-color: var(--fill-color);\n",
              "      border-top-color: var(--fill-color);\n",
              "    }\n",
              "    30% {\n",
              "      border-color: transparent;\n",
              "      border-left-color: var(--fill-color);\n",
              "      border-top-color: var(--fill-color);\n",
              "      border-right-color: var(--fill-color);\n",
              "    }\n",
              "    40% {\n",
              "      border-color: transparent;\n",
              "      border-right-color: var(--fill-color);\n",
              "      border-top-color: var(--fill-color);\n",
              "    }\n",
              "    60% {\n",
              "      border-color: transparent;\n",
              "      border-right-color: var(--fill-color);\n",
              "    }\n",
              "    80% {\n",
              "      border-color: transparent;\n",
              "      border-right-color: var(--fill-color);\n",
              "      border-bottom-color: var(--fill-color);\n",
              "    }\n",
              "    90% {\n",
              "      border-color: transparent;\n",
              "      border-bottom-color: var(--fill-color);\n",
              "    }\n",
              "  }\n",
              "</style>\n",
              "\n",
              "  <script>\n",
              "    async function quickchart(key) {\n",
              "      const quickchartButtonEl =\n",
              "        document.querySelector('#' + key + ' button');\n",
              "      quickchartButtonEl.disabled = true;  // To prevent multiple clicks.\n",
              "      quickchartButtonEl.classList.add('colab-df-spinner');\n",
              "      try {\n",
              "        const charts = await google.colab.kernel.invokeFunction(\n",
              "            'suggestCharts', [key], {});\n",
              "      } catch (error) {\n",
              "        console.error('Error during call to suggestCharts:', error);\n",
              "      }\n",
              "      quickchartButtonEl.classList.remove('colab-df-spinner');\n",
              "      quickchartButtonEl.classList.add('colab-df-quickchart-complete');\n",
              "    }\n",
              "    (() => {\n",
              "      let quickchartButtonEl =\n",
              "        document.querySelector('#df-d36f7faa-cb36-4358-ac31-4226c303874f button');\n",
              "      quickchartButtonEl.style.display =\n",
              "        google.colab.kernel.accessAllowed ? 'block' : 'none';\n",
              "    })();\n",
              "  </script>\n",
              "</div>\n",
              "\n",
              "    </div>\n",
              "  </div>\n"
            ],
            "application/vnd.google.colaboratory.intrinsic+json": {
              "type": "dataframe",
              "variable_name": "data",
              "summary": "{\n  \"name\": \"data\",\n  \"rows\": 10000,\n  \"fields\": [\n    {\n      \"column\": \"RowNumber\",\n      \"properties\": {\n        \"dtype\": \"number\",\n        \"std\": 2886,\n        \"min\": 1,\n        \"max\": 10000,\n        \"num_unique_values\": 10000,\n        \"samples\": [\n          6253,\n          4685,\n          1732\n        ],\n        \"semantic_type\": \"\",\n        \"description\": \"\"\n      }\n    },\n    {\n      \"column\": \"CustomerId\",\n      \"properties\": {\n        \"dtype\": \"number\",\n        \"std\": 71936,\n        \"min\": 15565701,\n        \"max\": 15815690,\n        \"num_unique_values\": 10000,\n        \"samples\": [\n          15687492,\n          15736963,\n          15721730\n        ],\n        \"semantic_type\": \"\",\n        \"description\": \"\"\n      }\n    },\n    {\n      \"column\": \"Surname\",\n      \"properties\": {\n        \"dtype\": \"category\",\n        \"num_unique_values\": 2932,\n        \"samples\": [\n          \"McGuirk\",\n          \"Torkelson\",\n          \"Rapuluchukwu\"\n        ],\n        \"semantic_type\": \"\",\n        \"description\": \"\"\n      }\n    },\n    {\n      \"column\": \"CreditScore\",\n      \"properties\": {\n        \"dtype\": \"number\",\n        \"std\": 96,\n        \"min\": 350,\n        \"max\": 850,\n        \"num_unique_values\": 460,\n        \"samples\": [\n          754,\n          533,\n          744\n        ],\n        \"semantic_type\": \"\",\n        \"description\": \"\"\n      }\n    },\n    {\n      \"column\": \"Geography\",\n      \"properties\": {\n        \"dtype\": \"category\",\n        \"num_unique_values\": 3,\n        \"samples\": [\n          \"France\",\n          \"Spain\",\n          \"Germany\"\n        ],\n        \"semantic_type\": \"\",\n        \"description\": \"\"\n      }\n    },\n    {\n      \"column\": \"Gender\",\n      \"properties\": {\n        \"dtype\": \"category\",\n        \"num_unique_values\": 2,\n        \"samples\": [\n          \"Male\",\n          \"Female\"\n        ],\n        \"semantic_type\": \"\",\n        \"description\": \"\"\n      }\n    },\n    {\n      \"column\": \"Age\",\n      \"properties\": {\n        \"dtype\": \"number\",\n        \"std\": 10,\n        \"min\": 18,\n        \"max\": 92,\n        \"num_unique_values\": 70,\n        \"samples\": [\n          61,\n          42\n        ],\n        \"semantic_type\": \"\",\n        \"description\": \"\"\n      }\n    },\n    {\n      \"column\": \"Tenure\",\n      \"properties\": {\n        \"dtype\": \"number\",\n        \"std\": 2,\n        \"min\": 0,\n        \"max\": 10,\n        \"num_unique_values\": 11,\n        \"samples\": [\n          6,\n          2\n        ],\n        \"semantic_type\": \"\",\n        \"description\": \"\"\n      }\n    },\n    {\n      \"column\": \"Balance\",\n      \"properties\": {\n        \"dtype\": \"number\",\n        \"std\": 62397.405202385955,\n        \"min\": 0.0,\n        \"max\": 250898.09,\n        \"num_unique_values\": 6382,\n        \"samples\": [\n          117707.18,\n          133050.97\n        ],\n        \"semantic_type\": \"\",\n        \"description\": \"\"\n      }\n    },\n    {\n      \"column\": \"NumOfProducts\",\n      \"properties\": {\n        \"dtype\": \"number\",\n        \"std\": 0,\n        \"min\": 1,\n        \"max\": 4,\n        \"num_unique_values\": 4,\n        \"samples\": [\n          3,\n          4\n        ],\n        \"semantic_type\": \"\",\n        \"description\": \"\"\n      }\n    },\n    {\n      \"column\": \"HasCrCard\",\n      \"properties\": {\n        \"dtype\": \"number\",\n        \"std\": 0,\n        \"min\": 0,\n        \"max\": 1,\n        \"num_unique_values\": 2,\n        \"samples\": [\n          0,\n          1\n        ],\n        \"semantic_type\": \"\",\n        \"description\": \"\"\n      }\n    },\n    {\n      \"column\": \"IsActiveMember\",\n      \"properties\": {\n        \"dtype\": \"number\",\n        \"std\": 0,\n        \"min\": 0,\n        \"max\": 1,\n        \"num_unique_values\": 2,\n        \"samples\": [\n          0,\n          1\n        ],\n        \"semantic_type\": \"\",\n        \"description\": \"\"\n      }\n    },\n    {\n      \"column\": \"EstimatedSalary\",\n      \"properties\": {\n        \"dtype\": \"number\",\n        \"std\": 57510.49281769816,\n        \"min\": 11.58,\n        \"max\": 199992.48,\n        \"num_unique_values\": 9999,\n        \"samples\": [\n          100809.99,\n          95273.73\n        ],\n        \"semantic_type\": \"\",\n        \"description\": \"\"\n      }\n    },\n    {\n      \"column\": \"Exited\",\n      \"properties\": {\n        \"dtype\": \"number\",\n        \"std\": 0,\n        \"min\": 0,\n        \"max\": 1,\n        \"num_unique_values\": 2,\n        \"samples\": [\n          0,\n          1\n        ],\n        \"semantic_type\": \"\",\n        \"description\": \"\"\n      }\n    }\n  ]\n}"
            }
          },
          "metadata": {},
          "execution_count": 2
        }
      ],
      "source": [
        "# reading data\n",
        "data =pd.read_csv('Churn_Modelling.csv')\n",
        "#printing first 5 rows\n",
        "data.head()"
      ]
    },
    {
      "cell_type": "code",
      "execution_count": 3,
      "id": "32a173ec",
      "metadata": {
        "execution": {
          "iopub.execute_input": "2024-06-03T23:41:55.544609Z",
          "iopub.status.busy": "2024-06-03T23:41:55.544191Z",
          "iopub.status.idle": "2024-06-03T23:41:55.556297Z",
          "shell.execute_reply": "2024-06-03T23:41:55.555238Z"
        },
        "papermill": {
          "duration": 0.023085,
          "end_time": "2024-06-03T23:41:55.558884",
          "exception": false,
          "start_time": "2024-06-03T23:41:55.535799",
          "status": "completed"
        },
        "tags": [],
        "id": "32a173ec"
      },
      "outputs": [],
      "source": [
        "data.drop(columns = ['RowNumber','CustomerId','Surname'], inplace= True )\n"
      ]
    },
    {
      "cell_type": "code",
      "execution_count": 4,
      "id": "eaff3199",
      "metadata": {
        "execution": {
          "iopub.execute_input": "2024-06-03T23:41:55.575192Z",
          "iopub.status.busy": "2024-06-03T23:41:55.574793Z",
          "iopub.status.idle": "2024-06-03T23:41:55.597085Z",
          "shell.execute_reply": "2024-06-03T23:41:55.595940Z"
        },
        "papermill": {
          "duration": 0.033691,
          "end_time": "2024-06-03T23:41:55.599872",
          "exception": false,
          "start_time": "2024-06-03T23:41:55.566181",
          "status": "completed"
        },
        "tags": [],
        "colab": {
          "base_uri": "https://localhost:8080/"
        },
        "id": "eaff3199",
        "outputId": "3fbbe405-6c41-4e15-874f-db48187f5450"
      },
      "outputs": [
        {
          "output_type": "stream",
          "name": "stdout",
          "text": [
            "<class 'pandas.core.frame.DataFrame'>\n",
            "RangeIndex: 10000 entries, 0 to 9999\n",
            "Data columns (total 11 columns):\n",
            " #   Column           Non-Null Count  Dtype  \n",
            "---  ------           --------------  -----  \n",
            " 0   CreditScore      10000 non-null  int64  \n",
            " 1   Geography        10000 non-null  object \n",
            " 2   Gender           10000 non-null  object \n",
            " 3   Age              10000 non-null  int64  \n",
            " 4   Tenure           10000 non-null  int64  \n",
            " 5   Balance          10000 non-null  float64\n",
            " 6   NumOfProducts    10000 non-null  int64  \n",
            " 7   HasCrCard        10000 non-null  int64  \n",
            " 8   IsActiveMember   10000 non-null  int64  \n",
            " 9   EstimatedSalary  10000 non-null  float64\n",
            " 10  Exited           10000 non-null  int64  \n",
            "dtypes: float64(2), int64(7), object(2)\n",
            "memory usage: 859.5+ KB\n"
          ]
        }
      ],
      "source": [
        "#exploring the columns\n",
        "data.info()"
      ]
    },
    {
      "cell_type": "code",
      "execution_count": 5,
      "id": "d63f9f57",
      "metadata": {
        "execution": {
          "iopub.execute_input": "2024-06-03T23:41:55.616689Z",
          "iopub.status.busy": "2024-06-03T23:41:55.616302Z",
          "iopub.status.idle": "2024-06-03T23:41:55.626930Z",
          "shell.execute_reply": "2024-06-03T23:41:55.625794Z"
        },
        "papermill": {
          "duration": 0.022467,
          "end_time": "2024-06-03T23:41:55.629729",
          "exception": false,
          "start_time": "2024-06-03T23:41:55.607262",
          "status": "completed"
        },
        "tags": [],
        "colab": {
          "base_uri": "https://localhost:8080/"
        },
        "id": "d63f9f57",
        "outputId": "fe228c25-89ca-4058-bcb5-ce84f1038f31"
      },
      "outputs": [
        {
          "output_type": "execute_result",
          "data": {
            "text/plain": [
              "CreditScore        0\n",
              "Geography          0\n",
              "Gender             0\n",
              "Age                0\n",
              "Tenure             0\n",
              "Balance            0\n",
              "NumOfProducts      0\n",
              "HasCrCard          0\n",
              "IsActiveMember     0\n",
              "EstimatedSalary    0\n",
              "Exited             0\n",
              "dtype: int64"
            ]
          },
          "metadata": {},
          "execution_count": 5
        }
      ],
      "source": [
        "data.isnull().sum()"
      ]
    },
    {
      "cell_type": "markdown",
      "id": "a1a5f3fd",
      "metadata": {
        "papermill": {
          "duration": 0.007003,
          "end_time": "2024-06-03T23:41:55.644225",
          "exception": false,
          "start_time": "2024-06-03T23:41:55.637222",
          "status": "completed"
        },
        "tags": [],
        "id": "a1a5f3fd"
      },
      "source": [
        "<p>The dataset is very clear don't have any null values and there is some categorical features like(surname,Geography,Gender)</p>"
      ]
    },
    {
      "cell_type": "code",
      "execution_count": 6,
      "id": "e78091d0",
      "metadata": {
        "execution": {
          "iopub.execute_input": "2024-06-03T23:41:55.660416Z",
          "iopub.status.busy": "2024-06-03T23:41:55.660037Z",
          "iopub.status.idle": "2024-06-03T23:41:55.666073Z",
          "shell.execute_reply": "2024-06-03T23:41:55.664954Z"
        },
        "papermill": {
          "duration": 0.017066,
          "end_time": "2024-06-03T23:41:55.668556",
          "exception": false,
          "start_time": "2024-06-03T23:41:55.651490",
          "status": "completed"
        },
        "tags": [],
        "colab": {
          "base_uri": "https://localhost:8080/"
        },
        "id": "e78091d0",
        "outputId": "6d25e028-5dc9-49d1-bd26-903ba0c334ad"
      },
      "outputs": [
        {
          "output_type": "stream",
          "name": "stdout",
          "text": [
            "number of rows = 10000\n",
            "number of cols or features  = 11\n"
          ]
        }
      ],
      "source": [
        "#explore number of rows & features\n",
        "print('number of rows = {}'.format(data.shape[0]))\n",
        "print('number of cols or features  = {}'.format(data.shape[1]))"
      ]
    },
    {
      "cell_type": "code",
      "execution_count": 7,
      "id": "c0a308aa",
      "metadata": {
        "execution": {
          "iopub.execute_input": "2024-06-03T23:41:55.685231Z",
          "iopub.status.busy": "2024-06-03T23:41:55.684841Z",
          "iopub.status.idle": "2024-06-03T23:41:56.010570Z",
          "shell.execute_reply": "2024-06-03T23:41:56.009433Z"
        },
        "papermill": {
          "duration": 0.337416,
          "end_time": "2024-06-03T23:41:56.013433",
          "exception": false,
          "start_time": "2024-06-03T23:41:55.676017",
          "status": "completed"
        },
        "tags": [],
        "colab": {
          "base_uri": "https://localhost:8080/",
          "height": 631
        },
        "id": "c0a308aa",
        "outputId": "c9ca4543-a73e-4b04-8c1c-08e3aedfd9c1"
      },
      "outputs": [
        {
          "output_type": "execute_result",
          "data": {
            "text/plain": [
              "Text(0.5, 1.0, 'Comparsion betweeen Countries and Customers')"
            ]
          },
          "metadata": {},
          "execution_count": 7
        },
        {
          "output_type": "display_data",
          "data": {
            "text/plain": [
              "<Figure size 1000x600 with 1 Axes>"
            ],
            "image/png": "[encoded data removed]"
          },
          "metadata": {}
        }
      ],
      "source": [
        "plt.figure(figsize=(10, 6))\n",
        "data['Geography'].value_counts().plot(kind='bar')\n",
        "plt.xlabel('Counrties Names')\n",
        "plt.ylabel('Numbers of Customers')\n",
        "plt.title(\"Comparsion betweeen Countries and Customers\")"
      ]
    },
    {
      "cell_type": "code",
      "execution_count": 8,
      "id": "46840db4",
      "metadata": {
        "execution": {
          "iopub.execute_input": "2024-06-03T23:41:56.031291Z",
          "iopub.status.busy": "2024-06-03T23:41:56.030875Z",
          "iopub.status.idle": "2024-06-03T23:41:56.043535Z",
          "shell.execute_reply": "2024-06-03T23:41:56.042409Z"
        },
        "papermill": {
          "duration": 0.024364,
          "end_time": "2024-06-03T23:41:56.045981",
          "exception": false,
          "start_time": "2024-06-03T23:41:56.021617",
          "status": "completed"
        },
        "tags": [],
        "id": "46840db4"
      },
      "outputs": [],
      "source": [
        "data= pd.get_dummies(data, columns= ['Geography', 'Gender'], drop_first=True)"
      ]
    },
    {
      "cell_type": "code",
      "execution_count": 9,
      "id": "3d6fa3a7",
      "metadata": {
        "execution": {
          "iopub.execute_input": "2024-06-03T23:41:56.064180Z",
          "iopub.status.busy": "2024-06-03T23:41:56.063771Z",
          "iopub.status.idle": "2024-06-03T23:41:56.070837Z",
          "shell.execute_reply": "2024-06-03T23:41:56.069677Z"
        },
        "papermill": {
          "duration": 0.019132,
          "end_time": "2024-06-03T23:41:56.073160",
          "exception": false,
          "start_time": "2024-06-03T23:41:56.054028",
          "status": "completed"
        },
        "tags": [],
        "id": "3d6fa3a7"
      },
      "outputs": [],
      "source": [
        "X=data.drop(columns=['Exited'])\n",
        "y=data['Exited']"
      ]
    },
    {
      "cell_type": "markdown",
      "id": "47cbca67",
      "metadata": {
        "papermill": {
          "duration": 0.007935,
          "end_time": "2024-06-03T23:41:56.088973",
          "exception": false,
          "start_time": "2024-06-03T23:41:56.081038",
          "status": "completed"
        },
        "tags": [],
        "id": "47cbca67"
      },
      "source": [
        "Spiliting dataset int train and test"
      ]
    },
    {
      "cell_type": "code",
      "execution_count": 10,
      "id": "313ce038",
      "metadata": {
        "execution": {
          "iopub.execute_input": "2024-06-03T23:41:56.106831Z",
          "iopub.status.busy": "2024-06-03T23:41:56.106396Z",
          "iopub.status.idle": "2024-06-03T23:41:57.485922Z",
          "shell.execute_reply": "2024-06-03T23:41:57.484536Z"
        },
        "papermill": {
          "duration": 1.391747,
          "end_time": "2024-06-03T23:41:57.488849",
          "exception": false,
          "start_time": "2024-06-03T23:41:56.097102",
          "status": "completed"
        },
        "tags": [],
        "id": "313ce038"
      },
      "outputs": [],
      "source": [
        "from sklearn.model_selection import train_test_split\n",
        "X_train, X_test, y_train, y_test = train_test_split(X,y, test_size= 0.25, random_state=3)\n"
      ]
    },
    {
      "cell_type": "code",
      "execution_count": 11,
      "id": "f0b51b6b",
      "metadata": {
        "execution": {
          "iopub.execute_input": "2024-06-03T23:41:57.506857Z",
          "iopub.status.busy": "2024-06-03T23:41:57.506417Z",
          "iopub.status.idle": "2024-06-03T23:41:57.524985Z",
          "shell.execute_reply": "2024-06-03T23:41:57.523873Z"
        },
        "papermill": {
          "duration": 0.03076,
          "end_time": "2024-06-03T23:41:57.527690",
          "exception": false,
          "start_time": "2024-06-03T23:41:57.496930",
          "status": "completed"
        },
        "tags": [],
        "id": "f0b51b6b"
      },
      "outputs": [],
      "source": [
        "\n",
        "from sklearn.preprocessing import MinMaxScaler,StandardScaler\n",
        "sc=StandardScaler()\n",
        "X_train=sc.fit_transform(X_train)\n",
        "X_test=sc.transform(X_test)"
      ]
    },
    {
      "cell_type": "code",
      "execution_count": 12,
      "id": "6e965f4f",
      "metadata": {
        "execution": {
          "iopub.execute_input": "2024-06-03T23:41:57.545093Z",
          "iopub.status.busy": "2024-06-03T23:41:57.544659Z",
          "iopub.status.idle": "2024-06-03T23:41:57.552049Z",
          "shell.execute_reply": "2024-06-03T23:41:57.550746Z"
        },
        "papermill": {
          "duration": 0.018745,
          "end_time": "2024-06-03T23:41:57.554305",
          "exception": false,
          "start_time": "2024-06-03T23:41:57.535560",
          "status": "completed"
        },
        "tags": [],
        "colab": {
          "base_uri": "https://localhost:8080/"
        },
        "id": "6e965f4f",
        "outputId": "9ca80f38-ae9a-4fc7-8aa5-27f93b72ebc9"
      },
      "outputs": [
        {
          "output_type": "execute_result",
          "data": {
            "text/plain": [
              "(7500, 11)"
            ]
          },
          "metadata": {},
          "execution_count": 12
        }
      ],
      "source": [
        "X_train.shape"
      ]
    },
    {
      "cell_type": "markdown",
      "id": "a9a6a5c7",
      "metadata": {
        "papermill": {
          "duration": 0.008118,
          "end_time": "2024-06-03T23:41:57.570529",
          "exception": false,
          "start_time": "2024-06-03T23:41:57.562411",
          "status": "completed"
        },
        "tags": [],
        "id": "a9a6a5c7"
      },
      "source": [
        "<p>Build a model (ANN) in tensorflow/keras</p>"
      ]
    },
    {
      "cell_type": "code",
      "execution_count": 13,
      "id": "34be8269",
      "metadata": {
        "execution": {
          "iopub.execute_input": "2024-06-03T23:41:57.588884Z",
          "iopub.status.busy": "2024-06-03T23:41:57.588064Z",
          "iopub.status.idle": "2024-06-03T23:42:49.238355Z",
          "shell.execute_reply": "2024-06-03T23:42:49.236913Z"
        },
        "papermill": {
          "duration": 51.662438,
          "end_time": "2024-06-03T23:42:49.240984",
          "exception": false,
          "start_time": "2024-06-03T23:41:57.578546",
          "status": "completed"
        },
        "tags": [],
        "colab": {
          "base_uri": "https://localhost:8080/"
        },
        "id": "34be8269",
        "outputId": "623e5e3a-2a91-455e-9104-6173417787be"
      },
      "outputs": [
        {
          "output_type": "stream",
          "name": "stdout",
          "text": [
            "Epoch 1/100\n",
            "235/235 [==============================] - 1s 2ms/step - loss: 0.6352 - accuracy: 0.6513\n",
            "Epoch 2/100\n",
            "235/235 [==============================] - 0s 2ms/step - loss: 0.4839 - accuracy: 0.7975\n",
            "Epoch 3/100\n",
            "235/235 [==============================] - 0s 2ms/step - loss: 0.4482 - accuracy: 0.7972\n",
            "Epoch 4/100\n",
            "235/235 [==============================] - 0s 2ms/step - loss: 0.4366 - accuracy: 0.7971\n",
            "Epoch 5/100\n",
            "235/235 [==============================] - 0s 2ms/step - loss: 0.4308 - accuracy: 0.8008\n",
            "Epoch 6/100\n",
            "235/235 [==============================] - 1s 3ms/step - loss: 0.4270 - accuracy: 0.8112\n",
            "Epoch 7/100\n",
            "235/235 [==============================] - 1s 3ms/step - loss: 0.4239 - accuracy: 0.8149\n",
            "Epoch 8/100\n",
            "235/235 [==============================] - 1s 3ms/step - loss: 0.4203 - accuracy: 0.8205\n",
            "Epoch 9/100\n",
            "235/235 [==============================] - 1s 3ms/step - loss: 0.4169 - accuracy: 0.8227\n",
            "Epoch 10/100\n",
            "235/235 [==============================] - 1s 2ms/step - loss: 0.4134 - accuracy: 0.8276\n",
            "Epoch 11/100\n",
            "235/235 [==============================] - 1s 3ms/step - loss: 0.4105 - accuracy: 0.8295\n",
            "Epoch 12/100\n",
            "235/235 [==============================] - 0s 2ms/step - loss: 0.4078 - accuracy: 0.8312\n",
            "Epoch 13/100\n",
            "235/235 [==============================] - 0s 2ms/step - loss: 0.4058 - accuracy: 0.8313\n",
            "Epoch 14/100\n",
            "235/235 [==============================] - 0s 2ms/step - loss: 0.4038 - accuracy: 0.8329\n",
            "Epoch 15/100\n",
            "235/235 [==============================] - 0s 2ms/step - loss: 0.4019 - accuracy: 0.8329\n",
            "Epoch 16/100\n",
            "235/235 [==============================] - 0s 2ms/step - loss: 0.4007 - accuracy: 0.8352\n",
            "Epoch 17/100\n",
            "235/235 [==============================] - 0s 2ms/step - loss: 0.3994 - accuracy: 0.8353\n",
            "Epoch 18/100\n",
            "235/235 [==============================] - 0s 2ms/step - loss: 0.3980 - accuracy: 0.8371\n",
            "Epoch 19/100\n",
            "235/235 [==============================] - 0s 2ms/step - loss: 0.3968 - accuracy: 0.8364\n",
            "Epoch 20/100\n",
            "235/235 [==============================] - 0s 2ms/step - loss: 0.3956 - accuracy: 0.8361\n",
            "Epoch 21/100\n",
            "235/235 [==============================] - 0s 2ms/step - loss: 0.3944 - accuracy: 0.8344\n",
            "Epoch 22/100\n",
            "235/235 [==============================] - 0s 2ms/step - loss: 0.3932 - accuracy: 0.8339\n",
            "Epoch 23/100\n",
            "235/235 [==============================] - 0s 2ms/step - loss: 0.3918 - accuracy: 0.8351\n",
            "Epoch 24/100\n",
            "235/235 [==============================] - 0s 2ms/step - loss: 0.3903 - accuracy: 0.8373\n",
            "Epoch 25/100\n",
            "235/235 [==============================] - 0s 2ms/step - loss: 0.3892 - accuracy: 0.8368\n",
            "Epoch 26/100\n",
            "235/235 [==============================] - 0s 2ms/step - loss: 0.3878 - accuracy: 0.8375\n",
            "Epoch 27/100\n",
            "235/235 [==============================] - 0s 2ms/step - loss: 0.3863 - accuracy: 0.8364\n",
            "Epoch 28/100\n",
            "235/235 [==============================] - 0s 2ms/step - loss: 0.3847 - accuracy: 0.8377\n",
            "Epoch 29/100\n",
            "235/235 [==============================] - 0s 2ms/step - loss: 0.3830 - accuracy: 0.8364\n",
            "Epoch 30/100\n",
            "235/235 [==============================] - 0s 2ms/step - loss: 0.3808 - accuracy: 0.8361\n",
            "Epoch 31/100\n",
            "235/235 [==============================] - 0s 2ms/step - loss: 0.3796 - accuracy: 0.8368\n",
            "Epoch 32/100\n",
            "235/235 [==============================] - 0s 2ms/step - loss: 0.3767 - accuracy: 0.8397\n",
            "Epoch 33/100\n",
            "235/235 [==============================] - 0s 2ms/step - loss: 0.3750 - accuracy: 0.8439\n",
            "Epoch 34/100\n",
            "235/235 [==============================] - 0s 2ms/step - loss: 0.3729 - accuracy: 0.8453\n",
            "Epoch 35/100\n",
            "235/235 [==============================] - 0s 2ms/step - loss: 0.3706 - accuracy: 0.8445\n",
            "Epoch 36/100\n",
            "235/235 [==============================] - 1s 3ms/step - loss: 0.3685 - accuracy: 0.8469\n",
            "Epoch 37/100\n",
            "235/235 [==============================] - 1s 3ms/step - loss: 0.3666 - accuracy: 0.8496\n",
            "Epoch 38/100\n",
            "235/235 [==============================] - 1s 3ms/step - loss: 0.3647 - accuracy: 0.8509\n",
            "Epoch 39/100\n",
            "235/235 [==============================] - 1s 3ms/step - loss: 0.3627 - accuracy: 0.8504\n",
            "Epoch 40/100\n",
            "235/235 [==============================] - 1s 3ms/step - loss: 0.3607 - accuracy: 0.8527\n",
            "Epoch 41/100\n",
            "235/235 [==============================] - 1s 2ms/step - loss: 0.3590 - accuracy: 0.8528\n",
            "Epoch 42/100\n",
            "235/235 [==============================] - 0s 2ms/step - loss: 0.3572 - accuracy: 0.8549\n",
            "Epoch 43/100\n",
            "235/235 [==============================] - 0s 2ms/step - loss: 0.3556 - accuracy: 0.8552\n",
            "Epoch 44/100\n",
            "235/235 [==============================] - 0s 2ms/step - loss: 0.3543 - accuracy: 0.8564\n",
            "Epoch 45/100\n",
            "235/235 [==============================] - 0s 2ms/step - loss: 0.3530 - accuracy: 0.8560\n",
            "Epoch 46/100\n",
            "235/235 [==============================] - 0s 2ms/step - loss: 0.3517 - accuracy: 0.8568\n",
            "Epoch 47/100\n",
            "235/235 [==============================] - 0s 2ms/step - loss: 0.3505 - accuracy: 0.8571\n",
            "Epoch 48/100\n",
            "235/235 [==============================] - 0s 2ms/step - loss: 0.3499 - accuracy: 0.8589\n",
            "Epoch 49/100\n",
            "235/235 [==============================] - 0s 2ms/step - loss: 0.3488 - accuracy: 0.8573\n",
            "Epoch 50/100\n",
            "235/235 [==============================] - 0s 2ms/step - loss: 0.3471 - accuracy: 0.8569\n",
            "Epoch 51/100\n",
            "235/235 [==============================] - 0s 2ms/step - loss: 0.3470 - accuracy: 0.8580\n",
            "Epoch 52/100\n",
            "235/235 [==============================] - 0s 2ms/step - loss: 0.3461 - accuracy: 0.8589\n",
            "Epoch 53/100\n",
            "235/235 [==============================] - 0s 2ms/step - loss: 0.3452 - accuracy: 0.8600\n",
            "Epoch 54/100\n",
            "235/235 [==============================] - 0s 2ms/step - loss: 0.3440 - accuracy: 0.8597\n",
            "Epoch 55/100\n",
            "235/235 [==============================] - 0s 2ms/step - loss: 0.3429 - accuracy: 0.8584\n",
            "Epoch 56/100\n",
            "235/235 [==============================] - 0s 2ms/step - loss: 0.3419 - accuracy: 0.8607\n",
            "Epoch 57/100\n",
            "235/235 [==============================] - 0s 2ms/step - loss: 0.3418 - accuracy: 0.8605\n",
            "Epoch 58/100\n",
            "235/235 [==============================] - 0s 2ms/step - loss: 0.3403 - accuracy: 0.8615\n",
            "Epoch 59/100\n",
            "235/235 [==============================] - 0s 2ms/step - loss: 0.3399 - accuracy: 0.8612\n",
            "Epoch 60/100\n",
            "235/235 [==============================] - 0s 2ms/step - loss: 0.3388 - accuracy: 0.8605\n",
            "Epoch 61/100\n",
            "235/235 [==============================] - 0s 2ms/step - loss: 0.3390 - accuracy: 0.8609\n",
            "Epoch 62/100\n",
            "235/235 [==============================] - 0s 2ms/step - loss: 0.3383 - accuracy: 0.8608\n",
            "Epoch 63/100\n",
            "235/235 [==============================] - 0s 2ms/step - loss: 0.3374 - accuracy: 0.8617\n",
            "Epoch 64/100\n",
            "235/235 [==============================] - 0s 2ms/step - loss: 0.3370 - accuracy: 0.8620\n",
            "Epoch 65/100\n",
            "235/235 [==============================] - 1s 2ms/step - loss: 0.3369 - accuracy: 0.8611\n",
            "Epoch 66/100\n",
            "235/235 [==============================] - 1s 3ms/step - loss: 0.3367 - accuracy: 0.8596\n",
            "Epoch 67/100\n",
            "235/235 [==============================] - 1s 3ms/step - loss: 0.3364 - accuracy: 0.8600\n",
            "Epoch 68/100\n",
            "235/235 [==============================] - 1s 3ms/step - loss: 0.3355 - accuracy: 0.8620\n",
            "Epoch 69/100\n",
            "235/235 [==============================] - 1s 3ms/step - loss: 0.3359 - accuracy: 0.8621\n",
            "Epoch 70/100\n",
            "235/235 [==============================] - 1s 3ms/step - loss: 0.3351 - accuracy: 0.8619\n",
            "Epoch 71/100\n",
            "235/235 [==============================] - 1s 3ms/step - loss: 0.3347 - accuracy: 0.8619\n",
            "Epoch 72/100\n",
            "235/235 [==============================] - 0s 2ms/step - loss: 0.3356 - accuracy: 0.8617\n",
            "Epoch 73/100\n",
            "235/235 [==============================] - 0s 2ms/step - loss: 0.3344 - accuracy: 0.8611\n",
            "Epoch 74/100\n",
            "235/235 [==============================] - 0s 2ms/step - loss: 0.3338 - accuracy: 0.8631\n",
            "Epoch 75/100\n",
            "235/235 [==============================] - 0s 2ms/step - loss: 0.3344 - accuracy: 0.8615\n",
            "Epoch 76/100\n",
            "235/235 [==============================] - 0s 2ms/step - loss: 0.3346 - accuracy: 0.8607\n",
            "Epoch 77/100\n",
            "235/235 [==============================] - 0s 2ms/step - loss: 0.3341 - accuracy: 0.8621\n",
            "Epoch 78/100\n",
            "235/235 [==============================] - 0s 2ms/step - loss: 0.3341 - accuracy: 0.8645\n",
            "Epoch 79/100\n",
            "235/235 [==============================] - 0s 2ms/step - loss: 0.3336 - accuracy: 0.8625\n",
            "Epoch 80/100\n",
            "235/235 [==============================] - 0s 2ms/step - loss: 0.3335 - accuracy: 0.8625\n",
            "Epoch 81/100\n",
            "235/235 [==============================] - 0s 2ms/step - loss: 0.3322 - accuracy: 0.8644\n",
            "Epoch 82/100\n",
            "235/235 [==============================] - 0s 2ms/step - loss: 0.3330 - accuracy: 0.8645\n",
            "Epoch 83/100\n",
            "235/235 [==============================] - 0s 2ms/step - loss: 0.3332 - accuracy: 0.8627\n",
            "Epoch 84/100\n",
            "235/235 [==============================] - 0s 2ms/step - loss: 0.3331 - accuracy: 0.8624\n",
            "Epoch 85/100\n",
            "235/235 [==============================] - 0s 2ms/step - loss: 0.3325 - accuracy: 0.8612\n",
            "Epoch 86/100\n",
            "235/235 [==============================] - 0s 2ms/step - loss: 0.3323 - accuracy: 0.8627\n",
            "Epoch 87/100\n",
            "235/235 [==============================] - 0s 2ms/step - loss: 0.3333 - accuracy: 0.8648\n",
            "Epoch 88/100\n",
            "235/235 [==============================] - 0s 2ms/step - loss: 0.3319 - accuracy: 0.8625\n",
            "Epoch 89/100\n",
            "235/235 [==============================] - 0s 2ms/step - loss: 0.3318 - accuracy: 0.8647\n",
            "Epoch 90/100\n",
            "235/235 [==============================] - 0s 2ms/step - loss: 0.3316 - accuracy: 0.8635\n",
            "Epoch 91/100\n",
            "235/235 [==============================] - 0s 2ms/step - loss: 0.3315 - accuracy: 0.8637\n",
            "Epoch 92/100\n",
            "235/235 [==============================] - 0s 2ms/step - loss: 0.3312 - accuracy: 0.8625\n",
            "Epoch 93/100\n",
            "235/235 [==============================] - 0s 2ms/step - loss: 0.3313 - accuracy: 0.8627\n",
            "Epoch 94/100\n",
            "235/235 [==============================] - 0s 2ms/step - loss: 0.3307 - accuracy: 0.8635\n",
            "Epoch 95/100\n",
            "235/235 [==============================] - 1s 2ms/step - loss: 0.3312 - accuracy: 0.8637\n",
            "Epoch 96/100\n",
            "235/235 [==============================] - 1s 3ms/step - loss: 0.3306 - accuracy: 0.8647\n",
            "Epoch 97/100\n",
            "235/235 [==============================] - 1s 3ms/step - loss: 0.3303 - accuracy: 0.8628\n",
            "Epoch 98/100\n",
            "235/235 [==============================] - 1s 4ms/step - loss: 0.3307 - accuracy: 0.8640\n",
            "Epoch 99/100\n",
            "235/235 [==============================] - 1s 4ms/step - loss: 0.3300 - accuracy: 0.8631\n",
            "Epoch 100/100\n",
            "235/235 [==============================] - 1s 2ms/step - loss: 0.3305 - accuracy: 0.8625\n"
          ]
        },
        {
          "output_type": "execute_result",
          "data": {
            "text/plain": [
              "<keras.src.callbacks.History at 0x7a6063fb8ee0>"
            ]
          },
          "metadata": {},
          "execution_count": 13
        }
      ],
      "source": [
        "import tensorflow as tf\n",
        "from tensorflow import keras\n",
        "model = keras.Sequential([\n",
        "    keras.layers.Dense(6, activation='relu',input_dim=11),\n",
        "    keras.layers.Dense(6, activation='relu'),\n",
        "    keras.layers.Dense(1, activation='sigmoid')\n",
        "])\n",
        "\n",
        "# opt = keras.optimizers.Adam(learning_rate=0.01)\n",
        "\n",
        "model.compile(optimizer='adam',\n",
        "              loss='binary_crossentropy',\n",
        "              metrics=['accuracy'])\n",
        "\n",
        "model.fit(X_train, y_train, epochs=100)"
      ]
    },
    {
      "cell_type": "code",
      "execution_count": 14,
      "id": "d6c7e85e",
      "metadata": {
        "execution": {
          "iopub.execute_input": "2024-06-03T23:42:49.382499Z",
          "iopub.status.busy": "2024-06-03T23:42:49.381826Z",
          "iopub.status.idle": "2024-06-03T23:42:49.395766Z",
          "shell.execute_reply": "2024-06-03T23:42:49.394053Z"
        },
        "papermill": {
          "duration": 0.086477,
          "end_time": "2024-06-03T23:42:49.399165",
          "exception": false,
          "start_time": "2024-06-03T23:42:49.312688",
          "status": "completed"
        },
        "tags": [],
        "id": "d6c7e85e"
      },
      "outputs": [],
      "source": [
        "# opt = keras.optimizers.Adam(learning_rate=0.01)\n",
        "\n",
        "model.compile(optimizer='adam',\n",
        "              loss='binary_crossentropy',\n",
        "              metrics=['accuracy'])\n",
        "\n"
      ]
    },
    {
      "cell_type": "code",
      "execution_count": 15,
      "id": "19b9b5a1",
      "metadata": {
        "execution": {
          "iopub.execute_input": "2024-06-03T23:42:49.557582Z",
          "iopub.status.busy": "2024-06-03T23:42:49.556461Z",
          "iopub.status.idle": "2024-06-03T23:44:33.095779Z",
          "shell.execute_reply": "2024-06-03T23:44:33.094608Z"
        },
        "papermill": {
          "duration": 103.611105,
          "end_time": "2024-06-03T23:44:33.098413",
          "exception": false,
          "start_time": "2024-06-03T23:42:49.487308",
          "status": "completed"
        },
        "tags": [],
        "colab": {
          "base_uri": "https://localhost:8080/"
        },
        "id": "19b9b5a1",
        "outputId": "03b99f9f-65e0-4d32-ea5f-13cb3897ef77"
      },
      "outputs": [
        {
          "output_type": "stream",
          "name": "stdout",
          "text": [
            "Epoch 1/100\n",
            "563/563 [==============================] - 3s 4ms/step - loss: 0.3308 - accuracy: 0.8636 - val_loss: 0.3374 - val_accuracy: 0.8635\n",
            "Epoch 2/100\n",
            "563/563 [==============================] - 1s 2ms/step - loss: 0.3309 - accuracy: 0.8622 - val_loss: 0.3368 - val_accuracy: 0.8587\n",
            "Epoch 3/100\n",
            "563/563 [==============================] - 1s 2ms/step - loss: 0.3297 - accuracy: 0.8631 - val_loss: 0.3394 - val_accuracy: 0.8581\n",
            "Epoch 4/100\n",
            "563/563 [==============================] - 1s 2ms/step - loss: 0.3302 - accuracy: 0.8636 - val_loss: 0.3413 - val_accuracy: 0.8619\n",
            "Epoch 5/100\n",
            "563/563 [==============================] - 1s 2ms/step - loss: 0.3303 - accuracy: 0.8620 - val_loss: 0.3424 - val_accuracy: 0.8597\n",
            "Epoch 6/100\n",
            "563/563 [==============================] - 1s 2ms/step - loss: 0.3296 - accuracy: 0.8658 - val_loss: 0.3461 - val_accuracy: 0.8576\n",
            "Epoch 7/100\n",
            "563/563 [==============================] - 1s 2ms/step - loss: 0.3301 - accuracy: 0.8610 - val_loss: 0.3419 - val_accuracy: 0.8619\n",
            "Epoch 8/100\n",
            "563/563 [==============================] - 1s 2ms/step - loss: 0.3296 - accuracy: 0.8622 - val_loss: 0.3415 - val_accuracy: 0.8619\n",
            "Epoch 9/100\n",
            "563/563 [==============================] - 2s 3ms/step - loss: 0.3287 - accuracy: 0.8617 - val_loss: 0.3433 - val_accuracy: 0.8619\n",
            "Epoch 10/100\n",
            "563/563 [==============================] - 2s 4ms/step - loss: 0.3301 - accuracy: 0.8615 - val_loss: 0.3426 - val_accuracy: 0.8587\n",
            "Epoch 11/100\n",
            "563/563 [==============================] - 1s 2ms/step - loss: 0.3275 - accuracy: 0.8652 - val_loss: 0.3452 - val_accuracy: 0.8608\n",
            "Epoch 12/100\n",
            "563/563 [==============================] - 1s 2ms/step - loss: 0.3283 - accuracy: 0.8636 - val_loss: 0.3435 - val_accuracy: 0.8613\n",
            "Epoch 13/100\n",
            "563/563 [==============================] - 1s 2ms/step - loss: 0.3288 - accuracy: 0.8619 - val_loss: 0.3437 - val_accuracy: 0.8603\n",
            "Epoch 14/100\n",
            "563/563 [==============================] - 1s 2ms/step - loss: 0.3285 - accuracy: 0.8638 - val_loss: 0.3455 - val_accuracy: 0.8597\n",
            "Epoch 15/100\n",
            "563/563 [==============================] - 1s 2ms/step - loss: 0.3282 - accuracy: 0.8619 - val_loss: 0.3440 - val_accuracy: 0.8581\n",
            "Epoch 16/100\n",
            "563/563 [==============================] - 1s 2ms/step - loss: 0.3283 - accuracy: 0.8645 - val_loss: 0.3457 - val_accuracy: 0.8581\n",
            "Epoch 17/100\n",
            "563/563 [==============================] - 2s 3ms/step - loss: 0.3274 - accuracy: 0.8649 - val_loss: 0.3442 - val_accuracy: 0.8619\n",
            "Epoch 18/100\n",
            "563/563 [==============================] - 2s 4ms/step - loss: 0.3268 - accuracy: 0.8652 - val_loss: 0.3451 - val_accuracy: 0.8603\n",
            "Epoch 19/100\n",
            "563/563 [==============================] - 2s 3ms/step - loss: 0.3272 - accuracy: 0.8638 - val_loss: 0.3518 - val_accuracy: 0.8560\n",
            "Epoch 20/100\n",
            "563/563 [==============================] - 1s 2ms/step - loss: 0.3279 - accuracy: 0.8617 - val_loss: 0.3435 - val_accuracy: 0.8597\n",
            "Epoch 21/100\n",
            "563/563 [==============================] - 1s 2ms/step - loss: 0.3273 - accuracy: 0.8628 - val_loss: 0.3472 - val_accuracy: 0.8576\n",
            "Epoch 22/100\n",
            "563/563 [==============================] - 1s 2ms/step - loss: 0.3269 - accuracy: 0.8633 - val_loss: 0.3454 - val_accuracy: 0.8581\n",
            "Epoch 23/100\n",
            "563/563 [==============================] - 1s 3ms/step - loss: 0.3271 - accuracy: 0.8640 - val_loss: 0.3485 - val_accuracy: 0.8619\n",
            "Epoch 24/100\n",
            "563/563 [==============================] - 1s 2ms/step - loss: 0.3281 - accuracy: 0.8603 - val_loss: 0.3458 - val_accuracy: 0.8576\n",
            "Epoch 25/100\n",
            "563/563 [==============================] - 1s 2ms/step - loss: 0.3276 - accuracy: 0.8629 - val_loss: 0.3459 - val_accuracy: 0.8565\n",
            "Epoch 26/100\n",
            "563/563 [==============================] - 1s 2ms/step - loss: 0.3270 - accuracy: 0.8620 - val_loss: 0.3429 - val_accuracy: 0.8619\n",
            "Epoch 27/100\n",
            "563/563 [==============================] - 2s 4ms/step - loss: 0.3271 - accuracy: 0.8617 - val_loss: 0.3457 - val_accuracy: 0.8592\n",
            "Epoch 28/100\n",
            "563/563 [==============================] - 2s 3ms/step - loss: 0.3261 - accuracy: 0.8633 - val_loss: 0.3455 - val_accuracy: 0.8592\n",
            "Epoch 29/100\n",
            "563/563 [==============================] - 1s 2ms/step - loss: 0.3270 - accuracy: 0.8645 - val_loss: 0.3481 - val_accuracy: 0.8597\n",
            "Epoch 30/100\n",
            "563/563 [==============================] - 1s 2ms/step - loss: 0.3267 - accuracy: 0.8645 - val_loss: 0.3472 - val_accuracy: 0.8544\n",
            "Epoch 31/100\n",
            "563/563 [==============================] - 1s 2ms/step - loss: 0.3271 - accuracy: 0.8620 - val_loss: 0.3448 - val_accuracy: 0.8587\n",
            "Epoch 32/100\n",
            "563/563 [==============================] - 1s 2ms/step - loss: 0.3273 - accuracy: 0.8624 - val_loss: 0.3446 - val_accuracy: 0.8613\n",
            "Epoch 33/100\n",
            "563/563 [==============================] - 1s 2ms/step - loss: 0.3260 - accuracy: 0.8654 - val_loss: 0.3487 - val_accuracy: 0.8571\n",
            "Epoch 34/100\n",
            "563/563 [==============================] - 1s 2ms/step - loss: 0.3257 - accuracy: 0.8628 - val_loss: 0.3440 - val_accuracy: 0.8581\n",
            "Epoch 35/100\n",
            "563/563 [==============================] - 1s 2ms/step - loss: 0.3270 - accuracy: 0.8619 - val_loss: 0.3456 - val_accuracy: 0.8592\n",
            "Epoch 36/100\n",
            "563/563 [==============================] - 2s 4ms/step - loss: 0.3265 - accuracy: 0.8638 - val_loss: 0.3453 - val_accuracy: 0.8571\n",
            "Epoch 37/100\n",
            "563/563 [==============================] - 2s 3ms/step - loss: 0.3258 - accuracy: 0.8615 - val_loss: 0.3474 - val_accuracy: 0.8555\n",
            "Epoch 38/100\n",
            "563/563 [==============================] - 1s 2ms/step - loss: 0.3264 - accuracy: 0.8636 - val_loss: 0.3471 - val_accuracy: 0.8592\n",
            "Epoch 39/100\n",
            "563/563 [==============================] - 1s 2ms/step - loss: 0.3256 - accuracy: 0.8626 - val_loss: 0.3486 - val_accuracy: 0.8565\n",
            "Epoch 40/100\n",
            "563/563 [==============================] - 1s 2ms/step - loss: 0.3253 - accuracy: 0.8622 - val_loss: 0.3529 - val_accuracy: 0.8581\n",
            "Epoch 41/100\n",
            "563/563 [==============================] - 1s 2ms/step - loss: 0.3271 - accuracy: 0.8606 - val_loss: 0.3461 - val_accuracy: 0.8576\n",
            "Epoch 42/100\n",
            "563/563 [==============================] - 1s 2ms/step - loss: 0.3260 - accuracy: 0.8626 - val_loss: 0.3452 - val_accuracy: 0.8592\n",
            "Epoch 43/100\n",
            "563/563 [==============================] - 1s 2ms/step - loss: 0.3262 - accuracy: 0.8636 - val_loss: 0.3526 - val_accuracy: 0.8576\n",
            "Epoch 44/100\n",
            "563/563 [==============================] - 1s 2ms/step - loss: 0.3259 - accuracy: 0.8613 - val_loss: 0.3438 - val_accuracy: 0.8613\n",
            "Epoch 45/100\n",
            "563/563 [==============================] - 1s 2ms/step - loss: 0.3260 - accuracy: 0.8636 - val_loss: 0.3474 - val_accuracy: 0.8603\n",
            "Epoch 46/100\n",
            "563/563 [==============================] - 2s 4ms/step - loss: 0.3257 - accuracy: 0.8624 - val_loss: 0.3457 - val_accuracy: 0.8555\n",
            "Epoch 47/100\n",
            "563/563 [==============================] - 1s 3ms/step - loss: 0.3262 - accuracy: 0.8631 - val_loss: 0.3464 - val_accuracy: 0.8565\n",
            "Epoch 48/100\n",
            "563/563 [==============================] - 1s 2ms/step - loss: 0.3259 - accuracy: 0.8640 - val_loss: 0.3458 - val_accuracy: 0.8587\n",
            "Epoch 49/100\n",
            "563/563 [==============================] - 1s 2ms/step - loss: 0.3254 - accuracy: 0.8636 - val_loss: 0.3447 - val_accuracy: 0.8597\n",
            "Epoch 50/100\n",
            "563/563 [==============================] - 1s 3ms/step - loss: 0.3246 - accuracy: 0.8629 - val_loss: 0.3466 - val_accuracy: 0.8555\n",
            "Epoch 51/100\n",
            "563/563 [==============================] - 1s 2ms/step - loss: 0.3260 - accuracy: 0.8642 - val_loss: 0.3490 - val_accuracy: 0.8592\n",
            "Epoch 52/100\n",
            "563/563 [==============================] - 1s 2ms/step - loss: 0.3249 - accuracy: 0.8651 - val_loss: 0.3509 - val_accuracy: 0.8560\n",
            "Epoch 53/100\n",
            "563/563 [==============================] - 1s 2ms/step - loss: 0.3253 - accuracy: 0.8597 - val_loss: 0.3459 - val_accuracy: 0.8581\n",
            "Epoch 54/100\n",
            "563/563 [==============================] - 2s 3ms/step - loss: 0.3242 - accuracy: 0.8635 - val_loss: 0.3542 - val_accuracy: 0.8544\n",
            "Epoch 55/100\n",
            "563/563 [==============================] - 2s 4ms/step - loss: 0.3243 - accuracy: 0.8631 - val_loss: 0.3484 - val_accuracy: 0.8592\n",
            "Epoch 56/100\n",
            "563/563 [==============================] - 2s 3ms/step - loss: 0.3251 - accuracy: 0.8617 - val_loss: 0.3483 - val_accuracy: 0.8576\n",
            "Epoch 57/100\n",
            "563/563 [==============================] - 1s 3ms/step - loss: 0.3248 - accuracy: 0.8631 - val_loss: 0.3469 - val_accuracy: 0.8565\n",
            "Epoch 58/100\n",
            "563/563 [==============================] - 1s 2ms/step - loss: 0.3262 - accuracy: 0.8628 - val_loss: 0.3470 - val_accuracy: 0.8597\n",
            "Epoch 59/100\n",
            "563/563 [==============================] - 1s 2ms/step - loss: 0.3252 - accuracy: 0.8640 - val_loss: 0.3461 - val_accuracy: 0.8597\n",
            "Epoch 60/100\n",
            "563/563 [==============================] - 1s 2ms/step - loss: 0.3250 - accuracy: 0.8629 - val_loss: 0.3471 - val_accuracy: 0.8544\n",
            "Epoch 61/100\n",
            "563/563 [==============================] - 1s 2ms/step - loss: 0.3245 - accuracy: 0.8617 - val_loss: 0.3488 - val_accuracy: 0.8576\n",
            "Epoch 62/100\n",
            "563/563 [==============================] - 1s 2ms/step - loss: 0.3241 - accuracy: 0.8645 - val_loss: 0.3512 - val_accuracy: 0.8512\n",
            "Epoch 63/100\n",
            "563/563 [==============================] - 2s 3ms/step - loss: 0.3253 - accuracy: 0.8633 - val_loss: 0.3460 - val_accuracy: 0.8560\n",
            "Epoch 64/100\n",
            "563/563 [==============================] - 2s 4ms/step - loss: 0.3252 - accuracy: 0.8597 - val_loss: 0.3457 - val_accuracy: 0.8571\n",
            "Epoch 65/100\n",
            "563/563 [==============================] - 1s 2ms/step - loss: 0.3241 - accuracy: 0.8615 - val_loss: 0.3466 - val_accuracy: 0.8560\n",
            "Epoch 66/100\n",
            "563/563 [==============================] - 1s 2ms/step - loss: 0.3246 - accuracy: 0.8613 - val_loss: 0.3478 - val_accuracy: 0.8603\n",
            "Epoch 67/100\n",
            "563/563 [==============================] - 1s 2ms/step - loss: 0.3252 - accuracy: 0.8642 - val_loss: 0.3482 - val_accuracy: 0.8597\n",
            "Epoch 68/100\n",
            "563/563 [==============================] - 1s 2ms/step - loss: 0.3244 - accuracy: 0.8628 - val_loss: 0.3461 - val_accuracy: 0.8576\n",
            "Epoch 69/100\n",
            "563/563 [==============================] - 1s 2ms/step - loss: 0.3253 - accuracy: 0.8622 - val_loss: 0.3480 - val_accuracy: 0.8587\n",
            "Epoch 70/100\n",
            "563/563 [==============================] - 1s 2ms/step - loss: 0.3246 - accuracy: 0.8619 - val_loss: 0.3456 - val_accuracy: 0.8555\n",
            "Epoch 71/100\n",
            "563/563 [==============================] - 1s 2ms/step - loss: 0.3248 - accuracy: 0.8617 - val_loss: 0.3504 - val_accuracy: 0.8517\n",
            "Epoch 72/100\n",
            "563/563 [==============================] - 2s 3ms/step - loss: 0.3255 - accuracy: 0.8661 - val_loss: 0.3464 - val_accuracy: 0.8587\n",
            "Epoch 73/100\n",
            "563/563 [==============================] - 2s 4ms/step - loss: 0.3252 - accuracy: 0.8631 - val_loss: 0.3454 - val_accuracy: 0.8560\n",
            "Epoch 74/100\n",
            "563/563 [==============================] - 1s 2ms/step - loss: 0.3248 - accuracy: 0.8608 - val_loss: 0.3465 - val_accuracy: 0.8592\n",
            "Epoch 75/100\n",
            "563/563 [==============================] - 1s 2ms/step - loss: 0.3252 - accuracy: 0.8647 - val_loss: 0.3475 - val_accuracy: 0.8581\n",
            "Epoch 76/100\n",
            "563/563 [==============================] - 1s 2ms/step - loss: 0.3242 - accuracy: 0.8620 - val_loss: 0.3480 - val_accuracy: 0.8581\n",
            "Epoch 77/100\n",
            "563/563 [==============================] - 1s 2ms/step - loss: 0.3242 - accuracy: 0.8629 - val_loss: 0.3470 - val_accuracy: 0.8603\n",
            "Epoch 78/100\n",
            "563/563 [==============================] - 1s 2ms/step - loss: 0.3246 - accuracy: 0.8620 - val_loss: 0.3462 - val_accuracy: 0.8565\n",
            "Epoch 79/100\n",
            "563/563 [==============================] - 1s 2ms/step - loss: 0.3242 - accuracy: 0.8628 - val_loss: 0.3516 - val_accuracy: 0.8597\n",
            "Epoch 80/100\n",
            "563/563 [==============================] - 1s 2ms/step - loss: 0.3243 - accuracy: 0.8631 - val_loss: 0.3496 - val_accuracy: 0.8613\n",
            "Epoch 81/100\n",
            "563/563 [==============================] - 2s 3ms/step - loss: 0.3249 - accuracy: 0.8619 - val_loss: 0.3497 - val_accuracy: 0.8608\n",
            "Epoch 82/100\n",
            "563/563 [==============================] - 2s 4ms/step - loss: 0.3245 - accuracy: 0.8617 - val_loss: 0.3488 - val_accuracy: 0.8587\n",
            "Epoch 83/100\n",
            "563/563 [==============================] - 1s 2ms/step - loss: 0.3238 - accuracy: 0.8644 - val_loss: 0.3487 - val_accuracy: 0.8555\n",
            "Epoch 84/100\n",
            "563/563 [==============================] - 1s 2ms/step - loss: 0.3253 - accuracy: 0.8619 - val_loss: 0.3496 - val_accuracy: 0.8576\n",
            "Epoch 85/100\n",
            "563/563 [==============================] - 1s 2ms/step - loss: 0.3255 - accuracy: 0.8619 - val_loss: 0.3459 - val_accuracy: 0.8597\n",
            "Epoch 86/100\n",
            "563/563 [==============================] - 1s 2ms/step - loss: 0.3240 - accuracy: 0.8628 - val_loss: 0.3507 - val_accuracy: 0.8613\n",
            "Epoch 87/100\n",
            "563/563 [==============================] - 1s 2ms/step - loss: 0.3247 - accuracy: 0.8631 - val_loss: 0.3474 - val_accuracy: 0.8608\n",
            "Epoch 88/100\n",
            "563/563 [==============================] - 1s 2ms/step - loss: 0.3243 - accuracy: 0.8649 - val_loss: 0.3462 - val_accuracy: 0.8603\n",
            "Epoch 89/100\n",
            "563/563 [==============================] - 1s 2ms/step - loss: 0.3244 - accuracy: 0.8615 - val_loss: 0.3458 - val_accuracy: 0.8603\n",
            "Epoch 90/100\n",
            "563/563 [==============================] - 1s 2ms/step - loss: 0.3241 - accuracy: 0.8654 - val_loss: 0.3479 - val_accuracy: 0.8608\n",
            "Epoch 91/100\n",
            "563/563 [==============================] - 2s 4ms/step - loss: 0.3242 - accuracy: 0.8631 - val_loss: 0.3477 - val_accuracy: 0.8603\n",
            "Epoch 92/100\n",
            "563/563 [==============================] - 2s 3ms/step - loss: 0.3240 - accuracy: 0.8660 - val_loss: 0.3540 - val_accuracy: 0.8571\n",
            "Epoch 93/100\n",
            "563/563 [==============================] - 1s 2ms/step - loss: 0.3252 - accuracy: 0.8619 - val_loss: 0.3526 - val_accuracy: 0.8587\n",
            "Epoch 94/100\n",
            "563/563 [==============================] - 2s 3ms/step - loss: 0.3237 - accuracy: 0.8624 - val_loss: 0.3487 - val_accuracy: 0.8597\n",
            "Epoch 95/100\n",
            "563/563 [==============================] - 1s 2ms/step - loss: 0.3248 - accuracy: 0.8649 - val_loss: 0.3452 - val_accuracy: 0.8597\n",
            "Epoch 96/100\n",
            "563/563 [==============================] - 1s 2ms/step - loss: 0.3236 - accuracy: 0.8645 - val_loss: 0.3474 - val_accuracy: 0.8592\n",
            "Epoch 97/100\n",
            "563/563 [==============================] - 1s 2ms/step - loss: 0.3245 - accuracy: 0.8631 - val_loss: 0.3458 - val_accuracy: 0.8587\n",
            "Epoch 98/100\n",
            "563/563 [==============================] - 1s 2ms/step - loss: 0.3238 - accuracy: 0.8617 - val_loss: 0.3469 - val_accuracy: 0.8597\n",
            "Epoch 99/100\n",
            "563/563 [==============================] - 1s 2ms/step - loss: 0.3241 - accuracy: 0.8652 - val_loss: 0.3508 - val_accuracy: 0.8501\n",
            "Epoch 100/100\n",
            "563/563 [==============================] - 2s 3ms/step - loss: 0.3243 - accuracy: 0.8636 - val_loss: 0.3493 - val_accuracy: 0.8619\n"
          ]
        }
      ],
      "source": [
        "history = model.fit(X_train,y_train,batch_size=10,epochs=100,verbose=1,validation_split=0.25)"
      ]
    },
    {
      "cell_type": "code",
      "execution_count": 16,
      "id": "b8818254",
      "metadata": {
        "execution": {
          "iopub.execute_input": "2024-06-03T23:44:33.472532Z",
          "iopub.status.busy": "2024-06-03T23:44:33.472017Z",
          "iopub.status.idle": "2024-06-03T23:44:33.649509Z",
          "shell.execute_reply": "2024-06-03T23:44:33.648463Z"
        },
        "papermill": {
          "duration": 0.367614,
          "end_time": "2024-06-03T23:44:33.651849",
          "exception": false,
          "start_time": "2024-06-03T23:44:33.284235",
          "status": "completed"
        },
        "tags": [],
        "colab": {
          "base_uri": "https://localhost:8080/"
        },
        "id": "b8818254",
        "outputId": "de8b9e70-05f6-44be-d713-aad9ac802e54"
      },
      "outputs": [
        {
          "output_type": "stream",
          "name": "stdout",
          "text": [
            "79/79 [==============================] - 0s 3ms/step - loss: 0.3446 - accuracy: 0.8616\n"
          ]
        },
        {
          "output_type": "execute_result",
          "data": {
            "text/plain": [
              "[0.3446153402328491, 0.8615999817848206]"
            ]
          },
          "metadata": {},
          "execution_count": 16
        }
      ],
      "source": [
        "model.evaluate(X_test,y_test)"
      ]
    },
    {
      "cell_type": "code",
      "execution_count": 17,
      "id": "720994cf",
      "metadata": {
        "execution": {
          "iopub.execute_input": "2024-06-03T23:44:34.030266Z",
          "iopub.status.busy": "2024-06-03T23:44:34.029525Z",
          "iopub.status.idle": "2024-06-03T23:44:34.317425Z",
          "shell.execute_reply": "2024-06-03T23:44:34.316341Z"
        },
        "papermill": {
          "duration": 0.479083,
          "end_time": "2024-06-03T23:44:34.319764",
          "exception": false,
          "start_time": "2024-06-03T23:44:33.840681",
          "status": "completed"
        },
        "tags": [],
        "colab": {
          "base_uri": "https://localhost:8080/"
        },
        "id": "720994cf",
        "outputId": "65c9822d-61d5-4f76-cb56-d07ad882a7b2"
      },
      "outputs": [
        {
          "output_type": "stream",
          "name": "stdout",
          "text": [
            "79/79 [==============================] - 0s 2ms/step\n"
          ]
        },
        {
          "output_type": "execute_result",
          "data": {
            "text/plain": [
              "array([[False],\n",
              "       [False],\n",
              "       [ True],\n",
              "       ...,\n",
              "       [False],\n",
              "       [False],\n",
              "       [False]])"
            ]
          },
          "metadata": {},
          "execution_count": 17
        }
      ],
      "source": [
        "# predicting the test set result\n",
        "y_pred = model.predict(X_test)\n",
        "y_pred = (y_pred>0.5)\n",
        "y_pred"
      ]
    },
    {
      "cell_type": "code",
      "execution_count": 18,
      "id": "362418cb",
      "metadata": {
        "execution": {
          "iopub.execute_input": "2024-06-03T23:44:34.692421Z",
          "iopub.status.busy": "2024-06-03T23:44:34.691523Z",
          "iopub.status.idle": "2024-06-03T23:44:34.700600Z",
          "shell.execute_reply": "2024-06-03T23:44:34.699401Z"
        },
        "papermill": {
          "duration": 0.198455,
          "end_time": "2024-06-03T23:44:34.702776",
          "exception": false,
          "start_time": "2024-06-03T23:44:34.504321",
          "status": "completed"
        },
        "tags": [],
        "colab": {
          "base_uri": "https://localhost:8080/"
        },
        "id": "362418cb",
        "outputId": "2fadeb98-8f59-45ea-f26e-2fb8b615257e"
      },
      "outputs": [
        {
          "output_type": "stream",
          "name": "stdout",
          "text": [
            "accuracy on test data = 0.8616\n"
          ]
        }
      ],
      "source": [
        "from sklearn.metrics import accuracy_score\n",
        "test_acc=accuracy_score(y_test,y_pred)\n",
        "print('accuracy on test data = {}'.format(test_acc))"
      ]
    },
    {
      "cell_type": "code",
      "execution_count": 19,
      "id": "e7468ef9",
      "metadata": {
        "execution": {
          "iopub.execute_input": "2024-06-03T23:44:35.080807Z",
          "iopub.status.busy": "2024-06-03T23:44:35.079727Z",
          "iopub.status.idle": "2024-06-03T23:44:35.509983Z",
          "shell.execute_reply": "2024-06-03T23:44:35.508776Z"
        },
        "papermill": {
          "duration": 0.622483,
          "end_time": "2024-06-03T23:44:35.512236",
          "exception": false,
          "start_time": "2024-06-03T23:44:34.889753",
          "status": "completed"
        },
        "tags": [],
        "colab": {
          "base_uri": "https://localhost:8080/"
        },
        "id": "e7468ef9",
        "outputId": "1dc8d871-9c68-4fd8-80d2-46adfeef5caa"
      },
      "outputs": [
        {
          "output_type": "stream",
          "name": "stdout",
          "text": [
            "235/235 [==============================] - 1s 2ms/step\n",
            "accuracy on test data = 0.8641333333333333\n"
          ]
        }
      ],
      "source": [
        "train_pre=model.predict(X_train)\n",
        "train_pre = (train_pre>0.5)\n",
        "train_acc=accuracy_score(y_train,train_pre)\n",
        "print('accuracy on test data = {}'.format(train_acc))"
      ]
    },
    {
      "cell_type": "code",
      "execution_count": 20,
      "id": "dabeb76d",
      "metadata": {
        "execution": {
          "iopub.execute_input": "2024-06-03T23:44:35.951446Z",
          "iopub.status.busy": "2024-06-03T23:44:35.951062Z",
          "iopub.status.idle": "2024-06-03T23:44:36.253075Z",
          "shell.execute_reply": "2024-06-03T23:44:36.251800Z"
        },
        "papermill": {
          "duration": 0.557031,
          "end_time": "2024-06-03T23:44:36.255677",
          "exception": false,
          "start_time": "2024-06-03T23:44:35.698646",
          "status": "completed"
        },
        "tags": [],
        "colab": {
          "base_uri": "https://localhost:8080/",
          "height": 472
        },
        "id": "dabeb76d",
        "outputId": "3f27cfc9-39c6-4952-9316-b5d970aa9a8e"
      },
      "outputs": [
        {
          "output_type": "display_data",
          "data": {
            "text/plain": [
              "<Figure size 640x480 with 1 Axes>"
            ],
            "image/png": "[encoded data removed]"
          },
          "metadata": {}
        }
      ],
      "source": [
        "plt.plot(history.history['accuracy'])\n",
        "plt.plot(history.history['val_accuracy'])\n",
        "plt.title('model accuracy')\n",
        "plt.ylabel('accuracy')\n",
        "plt.xlabel('epoch')\n",
        "plt.legend(['train', 'val'], loc='upper left')\n",
        "plt.show()"
      ]
    },
    {
      "cell_type": "code",
      "execution_count": 21,
      "id": "af1f9e41",
      "metadata": {
        "execution": {
          "iopub.execute_input": "2024-06-03T23:44:36.631490Z",
          "iopub.status.busy": "2024-06-03T23:44:36.631082Z",
          "iopub.status.idle": "2024-06-03T23:44:36.878860Z",
          "shell.execute_reply": "2024-06-03T23:44:36.877783Z"
        },
        "papermill": {
          "duration": 0.438414,
          "end_time": "2024-06-03T23:44:36.881210",
          "exception": false,
          "start_time": "2024-06-03T23:44:36.442796",
          "status": "completed"
        },
        "tags": [],
        "colab": {
          "base_uri": "https://localhost:8080/",
          "height": 472
        },
        "id": "af1f9e41",
        "outputId": "e660d029-ffcd-4e20-b0a4-e5912517e5af"
      },
      "outputs": [
        {
          "output_type": "display_data",
          "data": {
            "text/plain": [
              "<Figure size 640x480 with 1 Axes>"
            ],
            "image/png": "[encoded data removed]"
          },
          "metadata": {}
        }
      ],
      "source": [
        "plt.plot(history.history['loss'])\n",
        "plt.plot(history.history['val_loss'])\n",
        "plt.title('model loss')\n",
        "plt.ylabel('loss')\n",
        "plt.xlabel('epoch')\n",
        "plt.legend(['train', 'val'], loc='upper left')\n",
        "plt.show()"
      ]
    },
    {
      "cell_type": "code",
      "execution_count": 22,
      "id": "66ab831b",
      "metadata": {
        "execution": {
          "iopub.execute_input": "2024-06-03T23:44:37.258615Z",
          "iopub.status.busy": "2024-06-03T23:44:37.258214Z",
          "iopub.status.idle": "2024-06-03T23:44:37.537323Z",
          "shell.execute_reply": "2024-06-03T23:44:37.535982Z"
        },
        "papermill": {
          "duration": 0.471259,
          "end_time": "2024-06-03T23:44:37.539715",
          "exception": false,
          "start_time": "2024-06-03T23:44:37.068456",
          "status": "completed"
        },
        "tags": [],
        "colab": {
          "base_uri": "https://localhost:8080/",
          "height": 445
        },
        "id": "66ab831b",
        "outputId": "737fb3b5-0d8f-4041-a4d1-660c7a25da94"
      },
      "outputs": [
        {
          "output_type": "display_data",
          "data": {
            "text/plain": [
              "<Figure size 800x500 with 1 Axes>"
            ],
            "image/png": "[encoded data removed]"
          },
          "metadata": {}
        }
      ],
      "source": [
        "pd.DataFrame(history.history).plot(figsize=(8,5))\n",
        "plt.show()"
      ]
    },
    {
      "cell_type": "code",
      "execution_count": 23,
      "id": "6eb85f12",
      "metadata": {
        "execution": {
          "iopub.execute_input": "2024-06-03T23:44:37.919690Z",
          "iopub.status.busy": "2024-06-03T23:44:37.919212Z",
          "iopub.status.idle": "2024-06-03T23:44:38.113446Z",
          "shell.execute_reply": "2024-06-03T23:44:38.111927Z"
        },
        "papermill": {
          "duration": 0.387764,
          "end_time": "2024-06-03T23:44:38.115913",
          "exception": false,
          "start_time": "2024-06-03T23:44:37.728149",
          "status": "completed"
        },
        "tags": [],
        "colab": {
          "base_uri": "https://localhost:8080/"
        },
        "id": "6eb85f12",
        "outputId": "e3eb45fe-ac7a-4023-f77d-6138ee639e51"
      },
      "outputs": [
        {
          "output_type": "stream",
          "name": "stdout",
          "text": [
            "79/79 [==============================] - 0s 1ms/step\n"
          ]
        },
        {
          "output_type": "execute_result",
          "data": {
            "text/plain": [
              "array([[False],\n",
              "       [False],\n",
              "       [ True],\n",
              "       ...,\n",
              "       [False],\n",
              "       [False],\n",
              "       [False]])"
            ]
          },
          "metadata": {},
          "execution_count": 23
        }
      ],
      "source": [
        "# predicting the test set result\n",
        "y_pred = model.predict(X_test)\n",
        "y_pred = (y_pred>0.5)\n",
        "y_pred"
      ]
    },
    {
      "cell_type": "code",
      "execution_count": 24,
      "id": "c67a02cd",
      "metadata": {
        "execution": {
          "iopub.execute_input": "2024-06-03T23:44:38.496070Z",
          "iopub.status.busy": "2024-06-03T23:44:38.495253Z",
          "iopub.status.idle": "2024-06-03T23:44:38.505210Z",
          "shell.execute_reply": "2024-06-03T23:44:38.504065Z"
        },
        "papermill": {
          "duration": 0.202866,
          "end_time": "2024-06-03T23:44:38.507552",
          "exception": false,
          "start_time": "2024-06-03T23:44:38.304686",
          "status": "completed"
        },
        "tags": [],
        "colab": {
          "base_uri": "https://localhost:8080/"
        },
        "id": "c67a02cd",
        "outputId": "567ea5c1-34e7-4042-dfcd-2f19c143b670"
      },
      "outputs": [
        {
          "output_type": "execute_result",
          "data": {
            "text/plain": [
              "array([[1925,   57],\n",
              "       [ 289,  229]])"
            ]
          },
          "metadata": {},
          "execution_count": 24
        }
      ],
      "source": [
        "from sklearn.metrics import confusion_matrix\n",
        "confusion_metric = confusion_matrix(y_test, y_pred)\n",
        "confusion_metric"
      ]
    },
    {
      "cell_type": "code",
      "execution_count": 25,
      "id": "5833aafa",
      "metadata": {
        "execution": {
          "iopub.execute_input": "2024-06-03T23:44:38.886271Z",
          "iopub.status.busy": "2024-06-03T23:44:38.885851Z",
          "iopub.status.idle": "2024-06-03T23:44:39.101007Z",
          "shell.execute_reply": "2024-06-03T23:44:39.099794Z"
        },
        "papermill": {
          "duration": 0.407733,
          "end_time": "2024-06-03T23:44:39.103528",
          "exception": false,
          "start_time": "2024-06-03T23:44:38.695795",
          "status": "completed"
        },
        "tags": [],
        "colab": {
          "base_uri": "https://localhost:8080/",
          "height": 449
        },
        "id": "5833aafa",
        "outputId": "f197122b-c1ca-49ba-f939-d4e62c38c258"
      },
      "outputs": [
        {
          "output_type": "display_data",
          "data": {
            "text/plain": [
              "<Figure size 640x480 with 2 Axes>"
            ],
            "image/png": "[encoded data removed]"
          },
          "metadata": {}
        }
      ],
      "source": [
        "# Display the confusion matrix\n",
        "from sklearn.metrics import confusion_matrix, ConfusionMatrixDisplay\n",
        "cm_display = ConfusionMatrixDisplay(confusion_matrix=confusion_metric, display_labels=[0, 1])\n",
        "cm_display.plot()\n",
        "\n",
        "# Show the plot\n",
        "plt.show()"
      ]
    },
    {
      "cell_type": "code",
      "execution_count": 25,
      "id": "d8989cec",
      "metadata": {
        "papermill": {
          "duration": 0.208652,
          "end_time": "2024-06-03T23:44:39.564084",
          "exception": false,
          "start_time": "2024-06-03T23:44:39.355432",
          "status": "completed"
        },
        "tags": [],
        "id": "d8989cec"
      },
      "outputs": [],
      "source": []
    }
  ],
  "metadata": {
    "kaggle": {
      "accelerator": "none",
      "dataSources": [
        {
          "datasetId": 2008274,
          "sourceId": 3322096,
          "sourceType": "datasetVersion"
        }
      ],
      "dockerImageVersionId": 30715,
      "isGpuEnabled": false,
      "isInternetEnabled": true,
      "language": "python",
      "sourceType": "notebook"
    },
    "kernelspec": {
      "display_name": "Python 3",
      "language": "python",
      "name": "python3"
    },
    "language_info": {
      "codemirror_mode": {
        "name": "ipython",
        "version": 3
      },
      "file_extension": ".py",
      "mimetype": "text/x-python",
      "name": "python",
      "nbconvert_exporter": "python",
      "pygments_lexer": "ipython3",
      "version": "3.10.13"
    },
    "papermill": {
      "default_parameters": {},
      "duration": 170.223945,
      "end_time": "2024-06-03T23:44:41.477456",
      "environment_variables": {},
      "exception": null,
      "input_path": "__notebook__.ipynb",
      "output_path": "__notebook__.ipynb",
      "parameters": {},
      "start_time": "2024-06-03T23:41:51.253511",
      "version": "2.5.0"
    },
    "colab": {
      "provenance": [],
      "include_colab_link": true
    }
  },
  "nbformat": 4,
  "nbformat_minor": 5
}